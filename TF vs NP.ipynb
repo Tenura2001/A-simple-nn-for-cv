import numpy as np
import tensorflow as tf
import time

# Define matrix dimensions
n = 10000  # A larger size for a more noticeable performance difference

# Generate two random matrices using NumPy
A_np = np.random.rand(n, n)
B_np = np.random.rand(n, n)

# Convert the NumPy matrices to TensorFlow tensors with the same values
A_tf = tf.convert_to_tensor(A_np, dtype=tf.float32)
B_tf = tf.convert_to_tensor(B_np, dtype=tf.float32)

# NumPy matrix multiplication (on CPU)
start_time = time.time()
C_np = np.dot(A_np, B_np)
end_time = time.time()
numpy_time = end_time - start_time
print(f"NumPy matrix multiplication time: {numpy_time:.6f} seconds")

# TensorFlow matrix multiplication (on GPU, if available)
start_time = time.time()
with tf.device('/GPU:0'):  # Ensure the operation is executed on GPU
    C_tf = tf.matmul(A_tf, B_tf)
end_time = time.time()
tensorflow_time = end_time - start_time
print(f"TensorFlow matrix multiplication time (on GPU): {tensorflow_time:.6f} seconds")
