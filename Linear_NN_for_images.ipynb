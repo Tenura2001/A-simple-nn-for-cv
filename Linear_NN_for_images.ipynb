{
  "cells": [
    {
      "cell_type": "code",
      "execution_count": null,
      "metadata": {
        "id": "2GOKQMVmsc4P"
      },
      "outputs": [],
      "source": [
        "import tensorflow as tf\n",
        "\n",
        "IMG_HEIGHT = 224\n",
        "IMG_WIDTH = 224\n",
        "IMG_CHANNELS = 3\n",
        "\n",
        "CLASS_NAMES = [\"daisy\", \"dandelion\", \"roses\", \"sunflowers\", \"tulips\"]"
      ]
    },
    {
      "cell_type": "code",
      "execution_count": null,
      "metadata": {
        "id": "CMOhSNCwubW3"
      },
      "outputs": [],
      "source": [
        "def read_and_decode(filename, resize_dims):\n",
        "    # 1. Read the raw file\n",
        "    img_bytes = tf.io.read_file(filename)\n",
        "    # 2. Decode image data\n",
        "    img = tf.image.decode_jpeg(img_bytes, channels=IMG_CHANNELS)\n",
        "    # 3. Convert pixel values to floats in [0, 1]\n",
        "    img = tf.image.convert_image_dtype(img, tf.float32)\n",
        "    # 4. Resize the image to match desired dimensions\n",
        "    img = tf.image.resize(img, resize_dims)\n",
        "    return img"
      ]
    },
    {
      "cell_type": "code",
      "execution_count": null,
      "metadata": {
        "id": "627VBqPXudCZ"
      },
      "outputs": [],
      "source": [
        "def parse_csvline(csv_line):\n",
        "    # record_defaults specify the data types for each column\n",
        "    record_default = [\"\", \"\"]\n",
        "    filename, label_string = tf.io.decode_csv(csv_line, record_default)\n",
        "\n",
        "    # Load the image\n",
        "    img = read_and_decode(filename, [IMG_HEIGHT, IMG_WIDTH])\n",
        "\n",
        "    # Convert label string to integer based on the CLASS_NAMES index\n",
        "    label = tf.argmax(tf.math.equal(CLASS_NAMES, label_string))\n",
        "    return img, label"
      ]
    },
    {
      "cell_type": "code",
      "execution_count": null,
      "metadata": {
        "id": "aZr2BysrukjS"
      },
      "outputs": [],
      "source": [
        "# Define datasets\n",
        "train_dataset = (\n",
        "    tf.data.TextLineDataset(\"gs://cloud-ml-data/img/flower_photos/train_set.csv\")\n",
        "    .map(parse_csvline, num_parallel_calls=tf.data.AUTOTUNE)\n",
        "    .batch(16)\n",
        "    .prefetch(tf.data.AUTOTUNE)\n",
        ")\n",
        "\n",
        "eval_dataset = (\n",
        "    tf.data.TextLineDataset(\"gs://cloud-ml-data/img/flower_photos/eval_set.csv\")\n",
        "    .map(parse_csvline, num_parallel_calls=tf.data.AUTOTUNE)\n",
        "    .batch(16)\n",
        "    .prefetch(tf.data.AUTOTUNE)\n",
        ")"
      ]
    },
    {
      "cell_type": "code",
      "execution_count": null,
      "metadata": {
        "id": "N48m5pJCvJY0"
      },
      "outputs": [],
      "source": [
        "for image_batch, label_batch in train_dataset.take(3):\n",
        "    print(\"Image batch shape:\", image_batch.shape)\n",
        "    print(\"Label batch shape:\", label_batch.shape)\n",
        "    print(\"Labels:\", label_batch.numpy())"
      ]
    },
    {
      "cell_type": "code",
      "execution_count": null,
      "metadata": {
        "id": "nQaH1WSVzTyt"
      },
      "outputs": [],
      "source": [
        "import matplotlib.pyplot as plt\n",
        "\n",
        "for image_batch, label_batch in train_dataset.take(2):\n",
        "    # Take the first image from the batch\n",
        "    first_image = image_batch[0]\n",
        "    first_label = label_batch[0]\n",
        "\n",
        "    # Convert tensor to numpy array\n",
        "    plt.imshow(first_image.numpy())\n",
        "    plt.title(f\"Label: {CLASS_NAMES[first_label]}\")\n",
        "    plt.axis('off')\n",
        "    plt.show()"
      ]
    },
    {
      "cell_type": "code",
      "execution_count": null,
      "metadata": {
        "id": "-ojqwqxv0Ews"
      },
      "outputs": [],
      "source": [
        "import matplotlib.pyplot as plt\n",
        "\n",
        "# Take one batch from the dataset\n",
        "for image_batch, label_batch in train_dataset.take(2):\n",
        "    fig, axes = plt.subplots(4, 4, figsize=(10, 10))  # Create a 4x4 grid\n",
        "\n",
        "    for i in range(16):  # Loop over the first 16 images\n",
        "        ax = axes[i // 4, i % 4]  # Determine grid position\n",
        "        ax.imshow(image_batch[i].numpy())  # Convert tensor to numpy array\n",
        "        ax.set_title(f\"Label: {CLASS_NAMES[label_batch[i]]}\")\n",
        "        ax.axis(\"off\")  # Hide axes\n",
        "\n",
        "    plt.tight_layout()\n",
        "    plt.show()\n"
      ]
    },
    {
      "cell_type": "code",
      "execution_count": null,
      "metadata": {
        "id": "5BYXbvTz4YZd"
      },
      "outputs": [],
      "source": [
        "from tensorflow import keras\n",
        "\n",
        "model = keras.Sequential([\n",
        "    keras.layers.Flatten(input_shape=(IMG_HEIGHT, IMG_WIDTH, IMG_CHANNELS)),\n",
        "    keras.layers.Dense(len(CLASS_NAMES), activation=\"softmax\")\n",
        "])\n",
        "\n",
        "model.compile(\n",
        "    optimizer=\"adam\",\n",
        "    loss=keras.losses.SparseCategoricalCrossentropy(from_logits=False),\n",
        "    metrics=[\"accuracy\"]\n",
        ")"
      ]
    },
    {
      "cell_type": "code",
      "execution_count": null,
      "metadata": {
        "id": "Blghi1MD4mHV"
      },
      "outputs": [],
      "source": [
        "EPOCHS = 10\n",
        "\n",
        "history = model.fit(\n",
        "    train_dataset,\n",
        "    validation_data=eval_dataset,\n",
        "    epochs=EPOCHS\n",
        ")"
      ]
    },
    {
      "cell_type": "code",
      "execution_count": null,
      "metadata": {
        "id": "tUj4tCML6Rk_"
      },
      "outputs": [],
      "source": [
        "import matplotlib.pyplot as plt\n",
        "\n",
        "plt.plot(history.history[\"loss\"], label=\"Training Loss\")\n",
        "plt.plot(history.history[\"val_loss\"], label=\"Validation Loss\")\n",
        "plt.xlabel(\"Epoch\")\n",
        "plt.ylabel(\"Loss\")\n",
        "plt.legend()\n",
        "plt.show()\n",
        "\n",
        "plt.plot(history.history[\"accuracy\"], label=\"Training Accuracy\")\n",
        "plt.plot(history.history[\"val_accuracy\"], label=\"Validation Accuracy\")\n",
        "plt.xlabel(\"Epoch\")\n",
        "plt.ylabel(\"Accuracy\")\n",
        "plt.legend()\n",
        "plt.show()"
      ]
    },
    {
      "cell_type": "code",
      "execution_count": null,
      "metadata": {
        "id": "4EqIQ6vD7ZLa"
      },
      "outputs": [],
      "source": [
        "import numpy as np\n",
        "import matplotlib.pyplot as plt\n",
        "import math\n",
        "\n",
        "# Take exactly one batch from the evaluation dataset\n",
        "for images, labels in eval_dataset.take(1):\n",
        "    # Get model predictions for this batch\n",
        "    batch_predictions = model.predict(images)\n",
        "    predicted_indices = np.argmax(batch_predictions, axis=1)\n",
        "\n",
        "    # Number of images in this batch\n",
        "    num_images = images.shape[0]\n",
        "\n",
        "    # Configure how many images to display per row\n",
        "    num_cols = 4\n",
        "    num_rows = math.ceil(num_images / num_cols)\n",
        "\n",
        "    # Create a figure with a suitable size\n",
        "    plt.figure(figsize=(12, 3 * num_rows))\n",
        "\n",
        "    for i in range(num_images):\n",
        "        plt.subplot(num_rows, num_cols, i + 1)\n",
        "\n",
        "        # Display the image\n",
        "        plt.imshow(images[i].numpy())\n",
        "        plt.axis('off')\n",
        "\n",
        "        # Get predicted and actual class names\n",
        "        pred_class = CLASS_NAMES[predicted_indices[i]]\n",
        "        actual_class = CLASS_NAMES[labels[i].numpy()]\n",
        "\n",
        "        # Show both predicted and actual labels as title\n",
        "        plt.title(f\"Pred: {pred_class}\\nActual: {actual_class}\", fontsize=10)\n",
        "\n",
        "    # Adjust spacing to avoid overlapping titles, etc.\n",
        "    plt.tight_layout()\n",
        "    plt.show()"
      ]
    }
  ],
  "metadata": {
    "colab": {
      "provenance": [],
      "gpuType": "T4"
    },
    "kernelspec": {
      "display_name": "Python 3",
      "name": "python3"
    },
    "language_info": {
      "name": "python"
    },
    "accelerator": "GPU"
  },
  "nbformat": 4,
  "nbformat_minor": 0
}